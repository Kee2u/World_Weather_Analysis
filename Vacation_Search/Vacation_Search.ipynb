{
 "cells": [
  {
   "cell_type": "markdown",
   "metadata": {},
   "source": [
    "## Deliverable 2. Create a Customer Travel Destinations Map."
   ]
  },
  {
   "cell_type": "code",
   "execution_count": 44,
   "metadata": {},
   "outputs": [],
   "source": [
    "# Dependencies and Setup\n",
    "import pandas as pd\n",
    "import requests\n",
    "import gmaps\n",
    "\n",
    "# Import API key\n",
    "from config import g_key\n",
    "\n",
    "# Configure gmaps API key\n",
    "gmaps.configure(api_key=g_key)"
   ]
  },
  {
   "cell_type": "code",
   "execution_count": 45,
   "metadata": {},
   "outputs": [
    {
     "output_type": "execute_result",
     "data": {
      "text/plain": [
       "   City_ID          City Country      Lat       Lng  Max Temp  Humidity  \\\n",
       "0        0        Xinmin      CN  41.9908  122.8253     26.60        86   \n",
       "1        1           Gat      IL  31.6100   34.7642     57.99       100   \n",
       "2        2        Castro      BR -24.7911  -50.0119     60.55        58   \n",
       "3        3  Norman Wells      CA  65.2820 -126.8329    -29.20        68   \n",
       "4        4    Nikolskoye      RU  59.7035   30.7861     10.00        78   \n",
       "\n",
       "   Cloudiness  Wind Speed Current Description  \n",
       "0          24        4.47                mist  \n",
       "1          58        3.27       broken clouds  \n",
       "2           0        3.33           clear sky  \n",
       "3          20        4.61          few clouds  \n",
       "4          75       11.18          light snow  "
      ],
      "text/html": "<div>\n<style scoped>\n    .dataframe tbody tr th:only-of-type {\n        vertical-align: middle;\n    }\n\n    .dataframe tbody tr th {\n        vertical-align: top;\n    }\n\n    .dataframe thead th {\n        text-align: right;\n    }\n</style>\n<table border=\"1\" class=\"dataframe\">\n  <thead>\n    <tr style=\"text-align: right;\">\n      <th></th>\n      <th>City_ID</th>\n      <th>City</th>\n      <th>Country</th>\n      <th>Lat</th>\n      <th>Lng</th>\n      <th>Max Temp</th>\n      <th>Humidity</th>\n      <th>Cloudiness</th>\n      <th>Wind Speed</th>\n      <th>Current Description</th>\n    </tr>\n  </thead>\n  <tbody>\n    <tr>\n      <th>0</th>\n      <td>0</td>\n      <td>Xinmin</td>\n      <td>CN</td>\n      <td>41.9908</td>\n      <td>122.8253</td>\n      <td>26.60</td>\n      <td>86</td>\n      <td>24</td>\n      <td>4.47</td>\n      <td>mist</td>\n    </tr>\n    <tr>\n      <th>1</th>\n      <td>1</td>\n      <td>Gat</td>\n      <td>IL</td>\n      <td>31.6100</td>\n      <td>34.7642</td>\n      <td>57.99</td>\n      <td>100</td>\n      <td>58</td>\n      <td>3.27</td>\n      <td>broken clouds</td>\n    </tr>\n    <tr>\n      <th>2</th>\n      <td>2</td>\n      <td>Castro</td>\n      <td>BR</td>\n      <td>-24.7911</td>\n      <td>-50.0119</td>\n      <td>60.55</td>\n      <td>58</td>\n      <td>0</td>\n      <td>3.33</td>\n      <td>clear sky</td>\n    </tr>\n    <tr>\n      <th>3</th>\n      <td>3</td>\n      <td>Norman Wells</td>\n      <td>CA</td>\n      <td>65.2820</td>\n      <td>-126.8329</td>\n      <td>-29.20</td>\n      <td>68</td>\n      <td>20</td>\n      <td>4.61</td>\n      <td>few clouds</td>\n    </tr>\n    <tr>\n      <th>4</th>\n      <td>4</td>\n      <td>Nikolskoye</td>\n      <td>RU</td>\n      <td>59.7035</td>\n      <td>30.7861</td>\n      <td>10.00</td>\n      <td>78</td>\n      <td>75</td>\n      <td>11.18</td>\n      <td>light snow</td>\n    </tr>\n  </tbody>\n</table>\n</div>"
     },
     "metadata": {},
     "execution_count": 45
    }
   ],
   "source": [
    "# 1. Import the WeatherPy_database.csv file. \n",
    "city_data_df = pd.read_csv(\"../Weather_Database/WeatherPy_database.csv\")\n",
    "city_data_df.head()"
   ]
  },
  {
   "cell_type": "code",
   "execution_count": 46,
   "metadata": {},
   "outputs": [],
   "source": [
    "# 2. Prompt the user to enter minimum and maximum temperature criteria .\n",
    "min_temp = float(input(\"What is the minimum temperature you would like for your trip? \"))\n",
    "max_temp = float(input(\"What is the maximum temperature you would like for your trip? \"))"
   ]
  },
  {
   "cell_type": "code",
   "execution_count": 47,
   "metadata": {},
   "outputs": [],
   "source": [
    "# 3. Filter the city_data_df DataFrame using the input statements to create a new DataFrame using the loc method.\n",
    "preferred_cities_df = city_data_df.loc[(city_data_df[\"Max Temp\"] <= max_temp) & \n",
    "                                       (city_data_df[\"Max Temp\"] >= min_temp)]\n"
   ]
  },
  {
   "cell_type": "code",
   "execution_count": 48,
   "metadata": {},
   "outputs": [
    {
     "output_type": "execute_result",
     "data": {
      "text/plain": [
       "City_ID                0\n",
       "City                   0\n",
       "Country                0\n",
       "Lat                    0\n",
       "Lng                    0\n",
       "Max Temp               0\n",
       "Humidity               0\n",
       "Cloudiness             0\n",
       "Wind Speed             0\n",
       "Current Description    0\n",
       "dtype: int64"
      ]
     },
     "metadata": {},
     "execution_count": 48
    }
   ],
   "source": [
    "# 4a. Determine if there are any empty rows.\n",
    "preferred_cities_df.isnull().sum()"
   ]
  },
  {
   "cell_type": "code",
   "execution_count": 49,
   "metadata": {},
   "outputs": [],
   "source": [
    "# 4b. Drop any empty rows and create a new DataFrame that doesn’t have empty rows.\n",
    "clean_df= preferred_cities_df.dropna()"
   ]
  },
  {
   "cell_type": "code",
   "execution_count": 50,
   "metadata": {},
   "outputs": [
    {
     "output_type": "execute_result",
     "data": {
      "text/plain": [
       "                 City Country  Max Temp Current Description      Lat  \\\n",
       "5            Takoradi      GH     79.52     overcast clouds   4.8845   \n",
       "10            Rikitea      PF     78.76          light rain -23.1203   \n",
       "14      Pontian Kecil      MY     78.01          few clouds   1.4801   \n",
       "16          Namatanai      PG     82.83     overcast clouds  -3.6667   \n",
       "17  Sao Joao Da Barra      BR     76.12     overcast clouds -21.6403   \n",
       "22         Georgetown      MY     81.00          few clouds   5.4112   \n",
       "23     Saint-Philippe      RE     78.80          light rain -21.3585   \n",
       "24          Inhambane      MZ     77.90     overcast clouds -23.8650   \n",
       "29             Atuona      PF     79.45          light rain  -9.8000   \n",
       "31           Acapulco      MX     84.20    scattered clouds  16.8634   \n",
       "\n",
       "         Lng Hotel Name  \n",
       "5    -1.7554             \n",
       "10 -134.9692             \n",
       "14  103.3899             \n",
       "16  152.4333             \n",
       "17  -41.0511             \n",
       "22  100.3354             \n",
       "23   55.7679             \n",
       "24   35.3833             \n",
       "29 -139.0333             \n",
       "31  -99.8901             "
      ],
      "text/html": "<div>\n<style scoped>\n    .dataframe tbody tr th:only-of-type {\n        vertical-align: middle;\n    }\n\n    .dataframe tbody tr th {\n        vertical-align: top;\n    }\n\n    .dataframe thead th {\n        text-align: right;\n    }\n</style>\n<table border=\"1\" class=\"dataframe\">\n  <thead>\n    <tr style=\"text-align: right;\">\n      <th></th>\n      <th>City</th>\n      <th>Country</th>\n      <th>Max Temp</th>\n      <th>Current Description</th>\n      <th>Lat</th>\n      <th>Lng</th>\n      <th>Hotel Name</th>\n    </tr>\n  </thead>\n  <tbody>\n    <tr>\n      <th>5</th>\n      <td>Takoradi</td>\n      <td>GH</td>\n      <td>79.52</td>\n      <td>overcast clouds</td>\n      <td>4.8845</td>\n      <td>-1.7554</td>\n      <td></td>\n    </tr>\n    <tr>\n      <th>10</th>\n      <td>Rikitea</td>\n      <td>PF</td>\n      <td>78.76</td>\n      <td>light rain</td>\n      <td>-23.1203</td>\n      <td>-134.9692</td>\n      <td></td>\n    </tr>\n    <tr>\n      <th>14</th>\n      <td>Pontian Kecil</td>\n      <td>MY</td>\n      <td>78.01</td>\n      <td>few clouds</td>\n      <td>1.4801</td>\n      <td>103.3899</td>\n      <td></td>\n    </tr>\n    <tr>\n      <th>16</th>\n      <td>Namatanai</td>\n      <td>PG</td>\n      <td>82.83</td>\n      <td>overcast clouds</td>\n      <td>-3.6667</td>\n      <td>152.4333</td>\n      <td></td>\n    </tr>\n    <tr>\n      <th>17</th>\n      <td>Sao Joao Da Barra</td>\n      <td>BR</td>\n      <td>76.12</td>\n      <td>overcast clouds</td>\n      <td>-21.6403</td>\n      <td>-41.0511</td>\n      <td></td>\n    </tr>\n    <tr>\n      <th>22</th>\n      <td>Georgetown</td>\n      <td>MY</td>\n      <td>81.00</td>\n      <td>few clouds</td>\n      <td>5.4112</td>\n      <td>100.3354</td>\n      <td></td>\n    </tr>\n    <tr>\n      <th>23</th>\n      <td>Saint-Philippe</td>\n      <td>RE</td>\n      <td>78.80</td>\n      <td>light rain</td>\n      <td>-21.3585</td>\n      <td>55.7679</td>\n      <td></td>\n    </tr>\n    <tr>\n      <th>24</th>\n      <td>Inhambane</td>\n      <td>MZ</td>\n      <td>77.90</td>\n      <td>overcast clouds</td>\n      <td>-23.8650</td>\n      <td>35.3833</td>\n      <td></td>\n    </tr>\n    <tr>\n      <th>29</th>\n      <td>Atuona</td>\n      <td>PF</td>\n      <td>79.45</td>\n      <td>light rain</td>\n      <td>-9.8000</td>\n      <td>-139.0333</td>\n      <td></td>\n    </tr>\n    <tr>\n      <th>31</th>\n      <td>Acapulco</td>\n      <td>MX</td>\n      <td>84.20</td>\n      <td>scattered clouds</td>\n      <td>16.8634</td>\n      <td>-99.8901</td>\n      <td></td>\n    </tr>\n  </tbody>\n</table>\n</div>"
     },
     "metadata": {},
     "execution_count": 50
    }
   ],
   "source": [
    "# 5a. Create DataFrame called hotel_df to store hotel names along with city, country, max temp, and coordinates.\n",
    "hotel_df = clean_df[[\"City\", \"Country\", \"Max Temp\", \"Current Description\", \"Lat\", \"Lng\"]].copy()\n",
    "\n",
    "# 5b. Create a new column \"Hotel Name\"\n",
    "hotel_df[\"Hotel Name\"] = \"\"\n",
    "hotel_df.head(10)"
   ]
  },
  {
   "cell_type": "code",
   "execution_count": 51,
   "metadata": {},
   "outputs": [
    {
     "output_type": "stream",
     "name": "stdout",
     "text": [
      "Hotel not found... skipping.\n",
      "Hotel not found... skipping.\n",
      "Hotel not found... skipping.\n",
      "Hotel not found... skipping.\n",
      "Hotel not found... skipping.\n",
      "Hotel not found... skipping.\n",
      "Hotel not found... skipping.\n"
     ]
    }
   ],
   "source": [
    "# 6a. Set parameters to search for hotels with 5000 meters.\n",
    "params = {\n",
    "    \"radius\": 5000,\n",
    "    \"type\": \"lodging\",\n",
    "    \"key\": g_key,\n",
    "    \"location\": \"90.000, 0.000\"}\n",
    "\n",
    "\n",
    "# 6b. Iterate through the hotel DataFrame.\n",
    "for index, row in hotel_df.iterrows():\n",
    "\n",
    "    # 6c. Get latitude and longitude from DataFrame\n",
    "    lat = row[\"Lat\"]\n",
    "    lng = row[\"Lng\"]\n",
    "\n",
    "    # 6d. Set up the base URL for the Google Directions API to get JSON data.\n",
    "    params[\"location\"] = f\"{lat},{lng}\"\n",
    "\n",
    "    # 6e. Make request and retrieve the JSON data from the search. \n",
    "    base_url = \"https://maps.googleapis.com/maps/api/place/nearbysearch/json\"\n",
    "    hotels = requests.get(base_url, params=params).json()\n",
    "\n",
    "    # 6f. Get the first hotel from the results and store the name, if a hotel isn't found skip the city.\n",
    "    try:\n",
    "        hotel_df.loc[index, \"Hotel Name\"] = hotels[\"results\"][0][\"name\"]\n",
    "    except (IndexError):\n",
    "        print(\"Hotel not found... skipping.\")\n",
    "        "
   ]
  },
  {
   "cell_type": "code",
   "execution_count": 52,
   "metadata": {},
   "outputs": [
    {
     "output_type": "execute_result",
     "data": {
      "text/plain": [
       "                 City Country  Max Temp Current Description      Lat  \\\n",
       "5            Takoradi      GH     79.52     overcast clouds   4.8845   \n",
       "10            Rikitea      PF     78.76          light rain -23.1203   \n",
       "14      Pontian Kecil      MY     78.01          few clouds   1.4801   \n",
       "16          Namatanai      PG     82.83     overcast clouds  -3.6667   \n",
       "17  Sao Joao Da Barra      BR     76.12     overcast clouds -21.6403   \n",
       "\n",
       "         Lng                  Hotel Name  \n",
       "5    -1.7554  Raybow International Hotel  \n",
       "10 -134.9692              Pension Maro'i  \n",
       "14  103.3899     SUNFLOWER EXPRESS HOTEL  \n",
       "16  152.4333             Namatanai Hotel  \n",
       "17  -41.0511     Pousada Porto De Canoas  "
      ],
      "text/html": "<div>\n<style scoped>\n    .dataframe tbody tr th:only-of-type {\n        vertical-align: middle;\n    }\n\n    .dataframe tbody tr th {\n        vertical-align: top;\n    }\n\n    .dataframe thead th {\n        text-align: right;\n    }\n</style>\n<table border=\"1\" class=\"dataframe\">\n  <thead>\n    <tr style=\"text-align: right;\">\n      <th></th>\n      <th>City</th>\n      <th>Country</th>\n      <th>Max Temp</th>\n      <th>Current Description</th>\n      <th>Lat</th>\n      <th>Lng</th>\n      <th>Hotel Name</th>\n    </tr>\n  </thead>\n  <tbody>\n    <tr>\n      <th>5</th>\n      <td>Takoradi</td>\n      <td>GH</td>\n      <td>79.52</td>\n      <td>overcast clouds</td>\n      <td>4.8845</td>\n      <td>-1.7554</td>\n      <td>Raybow International Hotel</td>\n    </tr>\n    <tr>\n      <th>10</th>\n      <td>Rikitea</td>\n      <td>PF</td>\n      <td>78.76</td>\n      <td>light rain</td>\n      <td>-23.1203</td>\n      <td>-134.9692</td>\n      <td>Pension Maro'i</td>\n    </tr>\n    <tr>\n      <th>14</th>\n      <td>Pontian Kecil</td>\n      <td>MY</td>\n      <td>78.01</td>\n      <td>few clouds</td>\n      <td>1.4801</td>\n      <td>103.3899</td>\n      <td>SUNFLOWER EXPRESS HOTEL</td>\n    </tr>\n    <tr>\n      <th>16</th>\n      <td>Namatanai</td>\n      <td>PG</td>\n      <td>82.83</td>\n      <td>overcast clouds</td>\n      <td>-3.6667</td>\n      <td>152.4333</td>\n      <td>Namatanai Hotel</td>\n    </tr>\n    <tr>\n      <th>17</th>\n      <td>Sao Joao Da Barra</td>\n      <td>BR</td>\n      <td>76.12</td>\n      <td>overcast clouds</td>\n      <td>-21.6403</td>\n      <td>-41.0511</td>\n      <td>Pousada Porto De Canoas</td>\n    </tr>\n  </tbody>\n</table>\n</div>"
     },
     "metadata": {},
     "execution_count": 52
    }
   ],
   "source": [
    "hotel_df.head()"
   ]
  },
  {
   "cell_type": "code",
   "execution_count": 53,
   "metadata": {},
   "outputs": [],
   "source": [
    "# 7. Drop the rows where there is no Hotel Name.\n",
    "indexNames =hotel_df[hotel_df['Hotel Name'] == ''].index\n",
    " \n",
    "# Delete these row indexes from dataFrame\n",
    "clean_hotel_df = hotel_df.drop(indexNames)\n"
   ]
  },
  {
   "cell_type": "code",
   "execution_count": 54,
   "metadata": {},
   "outputs": [],
   "source": [
    "# 8a. Create the output File (CSV)\n",
    "output_data_file = \"WeatherPy_vacation.csv\"\n",
    "# 8b. Export the City_Data into a csv\n",
    "clean_hotel_df.to_csv(output_data_file, index_label=\"City_ID\")"
   ]
  },
  {
   "cell_type": "code",
   "execution_count": 70,
   "metadata": {},
   "outputs": [],
   "source": [
    "# 9. Using the template add city name, the country code, the weather description and maximum temperature for the city.\n",
    "info_box_template = \"\"\"\n",
    "<dl>\n",
    "<dt><b>Hotel Name</b></dt><dt>{Hotel Name}</dt>\n",
    "<dt><b>City</b></dt><dt>{City}</dt>\n",
    "<dt><b>Country </b></dt><dt>{Country}</dt>\n",
    "<dt><b>Current Weather</b></dt><dt>{Current Description} and {Max Temp} °F</dt>\n",
    "</dl>\n",
    "\"\"\"\n",
    "\n",
    "# 10a. Get the data from each row and add it to the formatting template and store the data in a list.\n",
    "hotel_info = [info_box_template.format(**row) for index, row in clean_hotel_df.iterrows()]\n",
    "\n",
    "# 10b. Get the latitude and longitude from each row and store in a new DataFrame.\n",
    "locations = clean_hotel_df[[\"Lat\", \"Lng\"]]"
   ]
  },
  {
   "cell_type": "code",
   "execution_count": 71,
   "metadata": {},
   "outputs": [
    {
     "output_type": "display_data",
     "data": {
      "text/plain": "Figure(layout=FigureLayout(height='420px'))",
      "application/vnd.jupyter.widget-view+json": {
       "version_major": 2,
       "version_minor": 0,
       "model_id": "6c7a2927c36a45b4911678a1440640f6"
      }
     },
     "metadata": {}
    }
   ],
   "source": [
    "# 11a. Add a marker layer for each city to the map. \n",
    "locations = clean_hotel_df[[\"Lat\", \"Lng\"]]\n",
    "# 11b. Display the figure\n",
    "fig = gmaps.figure(center=(30.0, 31.0), zoom_level=1.5)\n",
    "marker_layer = gmaps.marker_layer(locations, info_box_content=hotel_info)\n",
    "fig.add_layer(marker_layer)\n",
    "\n",
    "fig"
   ]
  },
  {
   "cell_type": "code",
   "execution_count": null,
   "metadata": {},
   "outputs": [],
   "source": []
  },
  {
   "cell_type": "code",
   "execution_count": null,
   "metadata": {},
   "outputs": [],
   "source": []
  }
 ],
 "metadata": {
  "kernelspec": {
   "display_name": "PythonData",
   "language": "python",
   "name": "pythondata"
  },
  "language_info": {
   "codemirror_mode": {
    "name": "ipython",
    "version": 3
   },
   "file_extension": ".py",
   "mimetype": "text/x-python",
   "name": "python",
   "nbconvert_exporter": "python",
   "pygments_lexer": "ipython3",
   "version": "3.7.9-final"
  },
  "latex_envs": {
   "LaTeX_envs_menu_present": true,
   "autoclose": false,
   "autocomplete": true,
   "bibliofile": "biblio.bib",
   "cite_by": "apalike",
   "current_citInitial": 1,
   "eqLabelWithNumbers": true,
   "eqNumInitial": 1,
   "hotkeys": {
    "equation": "Ctrl-E",
    "itemize": "Ctrl-I"
   },
   "labels_anchors": false,
   "latex_user_defs": false,
   "report_style_numbering": false,
   "user_envs_cfg": false
  }
 },
 "nbformat": 4,
 "nbformat_minor": 2
}