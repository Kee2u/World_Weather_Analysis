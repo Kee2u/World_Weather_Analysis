{
 "cells": [
  {
   "cell_type": "markdown",
   "metadata": {},
   "source": [
    "## Deliverable 3. Create a Travel Itinerary Map."
   ]
  },
  {
   "cell_type": "code",
   "execution_count": 82,
   "metadata": {},
   "outputs": [],
   "source": [
    "# Dependencies and Setup\n",
    "import pandas as pd\n",
    "import requests\n",
    "import gmaps\n",
    "\n",
    "# Import API key\n",
    "from config import g_key\n",
    "\n",
    "# Configure gmaps\n",
    "gmaps.configure(api_key=g_key)"
   ]
  },
  {
   "cell_type": "code",
   "execution_count": 83,
   "metadata": {},
   "outputs": [
    {
     "output_type": "execute_result",
     "data": {
      "text/plain": [
       "   City_ID               City Country  Max Temp Current Description      Lat  \\\n",
       "0        5           Takoradi      GH     79.52     overcast clouds   4.8845   \n",
       "1       10            Rikitea      PF     78.76          light rain -23.1203   \n",
       "2       14      Pontian Kecil      MY     78.01          few clouds   1.4801   \n",
       "3       16          Namatanai      PG     82.83     overcast clouds  -3.6667   \n",
       "4       17  Sao Joao Da Barra      BR     76.12     overcast clouds -21.6403   \n",
       "\n",
       "        Lng                  Hotel Name  \n",
       "0   -1.7554  Raybow International Hotel  \n",
       "1 -134.9692              Pension Maro'i  \n",
       "2  103.3899     SUNFLOWER EXPRESS HOTEL  \n",
       "3  152.4333             Namatanai Hotel  \n",
       "4  -41.0511     Pousada Porto De Canoas  "
      ],
      "text/html": "<div>\n<style scoped>\n    .dataframe tbody tr th:only-of-type {\n        vertical-align: middle;\n    }\n\n    .dataframe tbody tr th {\n        vertical-align: top;\n    }\n\n    .dataframe thead th {\n        text-align: right;\n    }\n</style>\n<table border=\"1\" class=\"dataframe\">\n  <thead>\n    <tr style=\"text-align: right;\">\n      <th></th>\n      <th>City_ID</th>\n      <th>City</th>\n      <th>Country</th>\n      <th>Max Temp</th>\n      <th>Current Description</th>\n      <th>Lat</th>\n      <th>Lng</th>\n      <th>Hotel Name</th>\n    </tr>\n  </thead>\n  <tbody>\n    <tr>\n      <th>0</th>\n      <td>5</td>\n      <td>Takoradi</td>\n      <td>GH</td>\n      <td>79.52</td>\n      <td>overcast clouds</td>\n      <td>4.8845</td>\n      <td>-1.7554</td>\n      <td>Raybow International Hotel</td>\n    </tr>\n    <tr>\n      <th>1</th>\n      <td>10</td>\n      <td>Rikitea</td>\n      <td>PF</td>\n      <td>78.76</td>\n      <td>light rain</td>\n      <td>-23.1203</td>\n      <td>-134.9692</td>\n      <td>Pension Maro'i</td>\n    </tr>\n    <tr>\n      <th>2</th>\n      <td>14</td>\n      <td>Pontian Kecil</td>\n      <td>MY</td>\n      <td>78.01</td>\n      <td>few clouds</td>\n      <td>1.4801</td>\n      <td>103.3899</td>\n      <td>SUNFLOWER EXPRESS HOTEL</td>\n    </tr>\n    <tr>\n      <th>3</th>\n      <td>16</td>\n      <td>Namatanai</td>\n      <td>PG</td>\n      <td>82.83</td>\n      <td>overcast clouds</td>\n      <td>-3.6667</td>\n      <td>152.4333</td>\n      <td>Namatanai Hotel</td>\n    </tr>\n    <tr>\n      <th>4</th>\n      <td>17</td>\n      <td>Sao Joao Da Barra</td>\n      <td>BR</td>\n      <td>76.12</td>\n      <td>overcast clouds</td>\n      <td>-21.6403</td>\n      <td>-41.0511</td>\n      <td>Pousada Porto De Canoas</td>\n    </tr>\n  </tbody>\n</table>\n</div>"
     },
     "metadata": {},
     "execution_count": 83
    }
   ],
   "source": [
    "#1. Read the WeatherPy_vacation.csv into a DataFrame.\n",
    "vacation_df = pd.read_csv(\"../Vacation_Search/WeatherPy_vacation.csv\")\n",
    "vacation_df.head()"
   ]
  },
  {
   "cell_type": "code",
   "execution_count": 84,
   "metadata": {},
   "outputs": [],
   "source": [
    "# 2. Using the template add the city name, the country code, the weather description and maximum temperature for the city.\n",
    "info_box_template = \"\"\"\n",
    "<dl>\n",
    "<dt><b>City</b></dt><dt>{City}</dt>\n",
    "<dt><b>Country </b></dt><dt>{Country}</dt>\n",
    "<dt><b>Current Weather</b></dt><dt>{Current Description} and {Max Temp} °F</dt>\n",
    "</dl>\n",
    "\"\"\"\n",
    "\n",
    "# 3a. Get the data from each row and add it to the formatting template and store the data in a list.\n",
    "hotel_info = [info_box_template.format(**row) for index, row in vacation_df.iterrows()]\n",
    "\n",
    "# 3b. Get the latitude and longitude from each row and store in a new DataFrame.\n",
    "locations = vacation_df[[\"Lat\", \"Lng\"]]"
   ]
  },
  {
   "cell_type": "code",
   "execution_count": 85,
   "metadata": {},
   "outputs": [
    {
     "output_type": "display_data",
     "data": {
      "text/plain": "Figure(layout=FigureLayout(height='420px'))",
      "application/vnd.jupyter.widget-view+json": {
       "version_major": 2,
       "version_minor": 0,
       "model_id": "cfbbb30da8474caea568ff4864c4ef54"
      }
     },
     "metadata": {}
    }
   ],
   "source": [
    "# 4a. Add a marker layer for each city to the map.\n",
    "locations = vacation_df[[\"Lat\", \"Lng\"]]\n",
    "# 4b. Display the figure\n",
    "fig = gmaps.figure(center=(30.0, 31.0), zoom_level=1.5)\n",
    "marker_layer = gmaps.marker_layer(locations, info_box_content=hotel_info)\n",
    "fig.add_layer(marker_layer)\n",
    "fig"
   ]
  },
  {
   "cell_type": "code",
   "execution_count": 86,
   "metadata": {},
   "outputs": [],
   "source": [
    "# From the map above pick 4 cities and create a vacation itinerary route to travel between the four cities. \n",
    "# 5. Create DataFrames for each city by filtering the 'vacation_df' using the loc method. \n",
    "# Hint: The starting and ending city should be the same city.\n",
    "\n",
    "vacation_start = vacation_df.loc[vacation_df['City'] == 'Yeppoon']\n",
    "vacation_end = vacation_df.loc[vacation_df['City'] == 'Yeppoon']\n",
    "vacation_stop1 = vacation_df.loc[vacation_df['City'] == 'Hervey Bay']\n",
    "vacation_stop2 = vacation_df.loc[vacation_df['City'] == 'Redcliffe'] \n",
    "vacation_stop3 = vacation_df.loc[vacation_df['City'] == 'Dalby'] \n"
   ]
  },
  {
   "cell_type": "code",
   "execution_count": 87,
   "metadata": {},
   "outputs": [],
   "source": [
    "# 6. Get the latitude-longitude pairs as tuples from each city DataFrame using the to_numpy function and list indexing.\n",
    "start_array = vacation_start.to_numpy()\n",
    "end_array = vacation_end.to_numpy()\n",
    "stop1_array = vacation_stop1.to_numpy()\n",
    "stop2_array = vacation_stop2.to_numpy()\n",
    "stop3_array = vacation_stop3.to_numpy()\n",
    "\n",
    "start = (start_array[0][5],start_array[0][6])\n",
    "end = (end_array[0][5],end_array[0][6]) \n",
    "stop1 = (stop1_array[0][5],stop1_array[0][6])\n",
    "stop2 = (stop2_array[0][5],stop2_array[0][6]) \n",
    "stop3 = (stop3_array[0][5],stop3_array[0][6]) "
   ]
  },
  {
   "cell_type": "code",
   "execution_count": 88,
   "metadata": {
    "scrolled": true
   },
   "outputs": [
    {
     "output_type": "display_data",
     "data": {
      "text/plain": "Figure(layout=FigureLayout(height='420px'))",
      "application/vnd.jupyter.widget-view+json": {
       "version_major": 2,
       "version_minor": 0,
       "model_id": "3a0e5da7221247978481e6a8ae3b49fc"
      }
     },
     "metadata": {}
    }
   ],
   "source": [
    "# 7. Create a direction layer map using the start and end latitude-longitude pairs,\n",
    "# and stop1, stop2, and stop3 as the waypoints. The travel_mode should be \"DRIVING\", \"BICYCLING\", or \"WALKING\".\n",
    "import gmaps\n",
    "import gmaps.datasets\n",
    "gmaps.configure(api_key=g_key)\n",
    "\n",
    "fig = gmaps.figure()\n",
    "route = gmaps.directions_layer(start, end, waypoints=[stop1, stop2, stop3],travel_mode='DRIVING')\n",
    "fig.add_layer(route)\n",
    "fig"
   ]
  },
  {
   "cell_type": "code",
   "execution_count": 89,
   "metadata": {},
   "outputs": [
    {
     "output_type": "execute_result",
     "data": {
      "text/plain": [
       "   City_ID        City Country  Max Temp Current Description      Lat  \\\n",
       "0      124     Yeppoon      AU     87.80    scattered clouds -23.1333   \n",
       "1      229  Hervey Bay      AU     87.01       broken clouds -25.2986   \n",
       "2      149   Redcliffe      AU     82.99       broken clouds -27.2307   \n",
       "3      562       Dalby      AU     87.01     overcast clouds -27.1833   \n",
       "\n",
       "        Lng                Hotel Name  \n",
       "0  150.7333          Villa Mar Colina  \n",
       "1  152.8535         Shelly Bay Resort  \n",
       "2  153.0973  Scarborough Beach Resort  \n",
       "3  151.2667   Kobbers Motor Inn Dalby  "
      ],
      "text/html": "<div>\n<style scoped>\n    .dataframe tbody tr th:only-of-type {\n        vertical-align: middle;\n    }\n\n    .dataframe tbody tr th {\n        vertical-align: top;\n    }\n\n    .dataframe thead th {\n        text-align: right;\n    }\n</style>\n<table border=\"1\" class=\"dataframe\">\n  <thead>\n    <tr style=\"text-align: right;\">\n      <th></th>\n      <th>City_ID</th>\n      <th>City</th>\n      <th>Country</th>\n      <th>Max Temp</th>\n      <th>Current Description</th>\n      <th>Lat</th>\n      <th>Lng</th>\n      <th>Hotel Name</th>\n    </tr>\n  </thead>\n  <tbody>\n    <tr>\n      <th>0</th>\n      <td>124</td>\n      <td>Yeppoon</td>\n      <td>AU</td>\n      <td>87.80</td>\n      <td>scattered clouds</td>\n      <td>-23.1333</td>\n      <td>150.7333</td>\n      <td>Villa Mar Colina</td>\n    </tr>\n    <tr>\n      <th>1</th>\n      <td>229</td>\n      <td>Hervey Bay</td>\n      <td>AU</td>\n      <td>87.01</td>\n      <td>broken clouds</td>\n      <td>-25.2986</td>\n      <td>152.8535</td>\n      <td>Shelly Bay Resort</td>\n    </tr>\n    <tr>\n      <th>2</th>\n      <td>149</td>\n      <td>Redcliffe</td>\n      <td>AU</td>\n      <td>82.99</td>\n      <td>broken clouds</td>\n      <td>-27.2307</td>\n      <td>153.0973</td>\n      <td>Scarborough Beach Resort</td>\n    </tr>\n    <tr>\n      <th>3</th>\n      <td>562</td>\n      <td>Dalby</td>\n      <td>AU</td>\n      <td>87.01</td>\n      <td>overcast clouds</td>\n      <td>-27.1833</td>\n      <td>151.2667</td>\n      <td>Kobbers Motor Inn Dalby</td>\n    </tr>\n  </tbody>\n</table>\n</div>"
     },
     "metadata": {},
     "execution_count": 89
    }
   ],
   "source": [
    "# 8. To create a marker layer map between the four cities.\n",
    "#  Combine the four city DataFrames into one DataFrame using the concat() function.\n",
    "itinerary_df = pd.concat([vacation_start, vacation_stop1, vacation_stop2, vacation_stop3],ignore_index=True)\n",
    "itinerary_df"
   ]
  },
  {
   "cell_type": "code",
   "execution_count": 90,
   "metadata": {},
   "outputs": [],
   "source": [
    "# 9 Using the template add city name, the country code, the weather description and maximum temperature for the city. \n",
    "info_box_template = \"\"\"\n",
    "<dl>\n",
    "<dt><b>Hotel Name</b></dt><dt>{Hotel Name}</dt>\n",
    "<dt><b>City</b></dt><dt>{City}</dt>\n",
    "<dt><b>Country </b></dt><dt>{Country}</dt>\n",
    "<dt><b>Current Weather</b></dt><dt>{Current Description} and {Max Temp} °F</dt>\n",
    "</dl>\n",
    "\"\"\"\n",
    "\n",
    "# 10a Get the data from each row and add it to the formatting template and store the data in a list.\n",
    "hotel_info = [info_box_template.format(**row) for index, row in itinerary_df.iterrows()]\n",
    "\n",
    "# 10b. Get the latitude and longitude from each row and store in a new DataFrame.\n",
    "locations = itinerary_df[[\"Lat\", \"Lng\"]]"
   ]
  },
  {
   "cell_type": "code",
   "execution_count": 91,
   "metadata": {},
   "outputs": [
    {
     "output_type": "display_data",
     "data": {
      "text/plain": "Figure(layout=FigureLayout(height='420px'))",
      "application/vnd.jupyter.widget-view+json": {
       "version_major": 2,
       "version_minor": 0,
       "model_id": "17d6476b2a174034baf00548c73741ae"
      }
     },
     "metadata": {}
    }
   ],
   "source": [
    "# 11a. Add a marker layer for each city to the map.\n",
    "locations = itinerary_df[[\"Lat\", \"Lng\"]]\n",
    "# 11b. Display the figure\n",
    "fig = gmaps.figure(center=(-25, 150), zoom_level=6)\n",
    "marker_layer = gmaps.marker_layer(locations, info_box_content= hotel_info)\n",
    "fig.add_layer(marker_layer)\n",
    "\n",
    "fig"
   ]
  },
  {
   "cell_type": "code",
   "execution_count": null,
   "metadata": {},
   "outputs": [],
   "source": []
  }
 ],
 "metadata": {
  "kernelspec": {
   "display_name": "PythonData",
   "language": "python",
   "name": "pythondata"
  },
  "language_info": {
   "codemirror_mode": {
    "name": "ipython",
    "version": 3
   },
   "file_extension": ".py",
   "mimetype": "text/x-python",
   "name": "python",
   "nbconvert_exporter": "python",
   "pygments_lexer": "ipython3",
   "version": "3.7.9-final"
  },
  "latex_envs": {
   "LaTeX_envs_menu_present": true,
   "autoclose": false,
   "autocomplete": true,
   "bibliofile": "biblio.bib",
   "cite_by": "apalike",
   "current_citInitial": 1,
   "eqLabelWithNumbers": true,
   "eqNumInitial": 1,
   "hotkeys": {
    "equation": "Ctrl-E",
    "itemize": "Ctrl-I"
   },
   "labels_anchors": false,
   "latex_user_defs": false,
   "report_style_numbering": false,
   "user_envs_cfg": false
  }
 },
 "nbformat": 4,
 "nbformat_minor": 2
}