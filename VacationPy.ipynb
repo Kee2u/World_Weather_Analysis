{
 "metadata": {
  "language_info": {
   "codemirror_mode": {
    "name": "ipython",
    "version": 3
   },
   "file_extension": ".py",
   "mimetype": "text/x-python",
   "name": "python",
   "nbconvert_exporter": "python",
   "pygments_lexer": "ipython3",
   "version": "3.8.5-final"
  },
  "orig_nbformat": 2,
  "kernelspec": {
   "name": "python3",
   "display_name": "Python 3",
   "language": "python"
  }
 },
 "nbformat": 4,
 "nbformat_minor": 2,
 "cells": [
  {
   "cell_type": "code",
   "execution_count": 31,
   "metadata": {},
   "outputs": [
    {
     "output_type": "stream",
     "name": "stdout",
     "text": [
      "Requirement already satisfied: gmaps in c:\\users\\keetu\\anaconda3\\lib\\site-packages (0.9.0)\n",
      "Requirement already satisfied: geojson>=2.0.0 in c:\\users\\keetu\\anaconda3\\lib\\site-packages (from gmaps) (2.5.0)\n",
      "Requirement already satisfied: ipython>=5.3.0 in c:\\users\\keetu\\anaconda3\\lib\\site-packages (from gmaps) (7.19.0)\n",
      "Requirement already satisfied: six in c:\\users\\keetu\\anaconda3\\lib\\site-packages (from gmaps) (1.15.0)\n",
      "Requirement already satisfied: ipywidgets>=7.0.0 in c:\\users\\keetu\\anaconda3\\lib\\site-packages (from gmaps) (7.6.3)\n",
      "Requirement already satisfied: traitlets>=4.3.0 in c:\\users\\keetu\\anaconda3\\lib\\site-packages (from gmaps) (5.0.5)\n",
      "Requirement already satisfied: decorator in c:\\users\\keetu\\anaconda3\\lib\\site-packages (from ipython>=5.3.0->gmaps) (4.4.2)\n",
      "Requirement already satisfied: prompt-toolkit!=3.0.0,!=3.0.1,<3.1.0,>=2.0.0 in c:\\users\\keetu\\anaconda3\\lib\\site-packages (from ipython>=5.3.0->gmaps) (3.0.8)\n",
      "Requirement already satisfied: jedi>=0.10 in c:\\users\\keetu\\anaconda3\\lib\\site-packages (from ipython>=5.3.0->gmaps) (0.17.2)\n",
      "Requirement already satisfied: setuptools>=18.5 in c:\\users\\keetu\\anaconda3\\lib\\site-packages (from ipython>=5.3.0->gmaps) (51.1.2.post20210112)\n",
      "Requirement already satisfied: pygments in c:\\users\\keetu\\anaconda3\\lib\\site-packages (from ipython>=5.3.0->gmaps) (2.7.4)\n",
      "Requirement already satisfied: backcall in c:\\users\\keetu\\anaconda3\\lib\\site-packages (from ipython>=5.3.0->gmaps) (0.2.0)\n",
      "Requirement already satisfied: colorama in c:\\users\\keetu\\anaconda3\\lib\\site-packages (from ipython>=5.3.0->gmaps) (0.4.4)\n",
      "Requirement already satisfied: pickleshare in c:\\users\\keetu\\anaconda3\\lib\\site-packages (from ipython>=5.3.0->gmaps) (0.7.5)\n",
      "Requirement already satisfied: jupyterlab-widgets>=1.0.0 in c:\\users\\keetu\\anaconda3\\lib\\site-packages (from ipywidgets>=7.0.0->gmaps) (1.0.0)\n",
      "Requirement already satisfied: widgetsnbextension~=3.5.0 in c:\\users\\keetu\\anaconda3\\lib\\site-packages (from ipywidgets>=7.0.0->gmaps) (3.5.1)\n",
      "Requirement already satisfied: ipykernel>=4.5.1 in c:\\users\\keetu\\anaconda3\\lib\\site-packages (from ipywidgets>=7.0.0->gmaps) (5.3.4)\n",
      "Requirement already satisfied: nbformat>=4.2.0 in c:\\users\\keetu\\anaconda3\\lib\\site-packages (from ipywidgets>=7.0.0->gmaps) (5.1.2)\n",
      "Requirement already satisfied: jupyter-client in c:\\users\\keetu\\anaconda3\\lib\\site-packages (from ipykernel>=4.5.1->ipywidgets>=7.0.0->gmaps) (6.1.7)\n",
      "Requirement already satisfied: tornado>=4.2 in c:\\users\\keetu\\anaconda3\\lib\\site-packages (from ipykernel>=4.5.1->ipywidgets>=7.0.0->gmaps) (6.1)\n",
      "Requirement already satisfied: parso<0.8.0,>=0.7.0 in c:\\users\\keetu\\anaconda3\\lib\\site-packages (from jedi>=0.10->ipython>=5.3.0->gmaps) (0.7.0)\n",
      "Requirement already satisfied: jupyter-core in c:\\users\\keetu\\anaconda3\\lib\\site-packages (from nbformat>=4.2.0->ipywidgets>=7.0.0->gmaps) (4.7.0)\n",
      "Requirement already satisfied: ipython-genutils in c:\\users\\keetu\\anaconda3\\lib\\site-packages (from nbformat>=4.2.0->ipywidgets>=7.0.0->gmaps) (0.2.0)\n",
      "Requirement already satisfied: jsonschema!=2.5.0,>=2.4 in c:\\users\\keetu\\anaconda3\\lib\\site-packages (from nbformat>=4.2.0->ipywidgets>=7.0.0->gmaps) (3.2.0)\n",
      "Requirement already satisfied: attrs>=17.4.0 in c:\\users\\keetu\\anaconda3\\lib\\site-packages (from jsonschema!=2.5.0,>=2.4->nbformat>=4.2.0->ipywidgets>=7.0.0->gmaps) (20.3.0)\n",
      "Requirement already satisfied: pyrsistent>=0.14.0 in c:\\users\\keetu\\anaconda3\\lib\\site-packages (from jsonschema!=2.5.0,>=2.4->nbformat>=4.2.0->ipywidgets>=7.0.0->gmaps) (0.17.3)\n",
      "Requirement already satisfied: wcwidth in c:\\users\\keetu\\anaconda3\\lib\\site-packages (from prompt-toolkit!=3.0.0,!=3.0.1,<3.1.0,>=2.0.0->ipython>=5.3.0->gmaps) (0.2.5)\n",
      "Requirement already satisfied: notebook>=4.4.1 in c:\\users\\keetu\\anaconda3\\lib\\site-packages (from widgetsnbextension~=3.5.0->ipywidgets>=7.0.0->gmaps) (6.1.6)\n",
      "Requirement already satisfied: argon2-cffi in c:\\users\\keetu\\anaconda3\\lib\\site-packages (from notebook>=4.4.1->widgetsnbextension~=3.5.0->ipywidgets>=7.0.0->gmaps) (20.1.0)\n",
      "Requirement already satisfied: prometheus-client in c:\\users\\keetu\\anaconda3\\lib\\site-packages (from notebook>=4.4.1->widgetsnbextension~=3.5.0->ipywidgets>=7.0.0->gmaps) (0.9.0)\n",
      "Requirement already satisfied: terminado>=0.8.3 in c:\\users\\keetu\\anaconda3\\lib\\site-packages (from notebook>=4.4.1->widgetsnbextension~=3.5.0->ipywidgets>=7.0.0->gmaps) (0.9.2)\n",
      "Requirement already satisfied: pyzmq>=17 in c:\\users\\keetu\\anaconda3\\lib\\site-packages (from notebook>=4.4.1->widgetsnbextension~=3.5.0->ipywidgets>=7.0.0->gmaps) (20.0.0)\n",
      "Requirement already satisfied: jinja2 in c:\\users\\keetu\\anaconda3\\lib\\site-packages (from notebook>=4.4.1->widgetsnbextension~=3.5.0->ipywidgets>=7.0.0->gmaps) (2.11.2)\n",
      "Requirement already satisfied: nbconvert in c:\\users\\keetu\\anaconda3\\lib\\site-packages (from notebook>=4.4.1->widgetsnbextension~=3.5.0->ipywidgets>=7.0.0->gmaps) (6.0.7)\n",
      "Requirement already satisfied: Send2Trash in c:\\users\\keetu\\anaconda3\\lib\\site-packages (from notebook>=4.4.1->widgetsnbextension~=3.5.0->ipywidgets>=7.0.0->gmaps) (1.5.0)\n",
      "Requirement already satisfied: python-dateutil>=2.1 in c:\\users\\keetu\\anaconda3\\lib\\site-packages (from jupyter-client->ipykernel>=4.5.1->ipywidgets>=7.0.0->gmaps) (2.8.1)\n",
      "Requirement already satisfied: pywin32>=1.0 in c:\\users\\keetu\\anaconda3\\lib\\site-packages (from jupyter-core->nbformat>=4.2.0->ipywidgets>=7.0.0->gmaps) (227)\n",
      "Requirement already satisfied: pywinpty>=0.5 in c:\\users\\keetu\\anaconda3\\lib\\site-packages (from terminado>=0.8.3->notebook>=4.4.1->widgetsnbextension~=3.5.0->ipywidgets>=7.0.0->gmaps) (0.5.7)\n",
      "Requirement already satisfied: cffi>=1.0.0 in c:\\users\\keetu\\anaconda3\\lib\\site-packages (from argon2-cffi->notebook>=4.4.1->widgetsnbextension~=3.5.0->ipywidgets>=7.0.0->gmaps) (1.14.4)\n",
      "Requirement already satisfied: pycparser in c:\\users\\keetu\\anaconda3\\lib\\site-packages (from cffi>=1.0.0->argon2-cffi->notebook>=4.4.1->widgetsnbextension~=3.5.0->ipywidgets>=7.0.0->gmaps) (2.20)\n",
      "Requirement already satisfied: MarkupSafe>=0.23 in c:\\users\\keetu\\anaconda3\\lib\\site-packages (from jinja2->notebook>=4.4.1->widgetsnbextension~=3.5.0->ipywidgets>=7.0.0->gmaps) (1.1.1)\n",
      "Requirement already satisfied: jupyterlab-pygments in c:\\users\\keetu\\anaconda3\\lib\\site-packages (from nbconvert->notebook>=4.4.1->widgetsnbextension~=3.5.0->ipywidgets>=7.0.0->gmaps) (0.1.2)\n",
      "Requirement already satisfied: mistune<2,>=0.8.1 in c:\\users\\keetu\\anaconda3\\lib\\site-packages (from nbconvert->notebook>=4.4.1->widgetsnbextension~=3.5.0->ipywidgets>=7.0.0->gmaps) (0.8.4)\n",
      "Requirement already satisfied: bleach in c:\\users\\keetu\\anaconda3\\lib\\site-packages (from nbconvert->notebook>=4.4.1->widgetsnbextension~=3.5.0->ipywidgets>=7.0.0->gmaps) (3.2.1)\n",
      "Requirement already satisfied: entrypoints>=0.2.2 in c:\\users\\keetu\\anaconda3\\lib\\site-packages (from nbconvert->notebook>=4.4.1->widgetsnbextension~=3.5.0->ipywidgets>=7.0.0->gmaps) (0.3)\n",
      "Requirement already satisfied: testpath in c:\\users\\keetu\\anaconda3\\lib\\site-packages (from nbconvert->notebook>=4.4.1->widgetsnbextension~=3.5.0->ipywidgets>=7.0.0->gmaps) (0.4.4)\n",
      "Requirement already satisfied: pandocfilters>=1.4.1 in c:\\users\\keetu\\anaconda3\\lib\\site-packages (from nbconvert->notebook>=4.4.1->widgetsnbextension~=3.5.0->ipywidgets>=7.0.0->gmaps) (1.4.3)\n",
      "Requirement already satisfied: nbclient<0.6.0,>=0.5.0 in c:\\users\\keetu\\anaconda3\\lib\\site-packages (from nbconvert->notebook>=4.4.1->widgetsnbextension~=3.5.0->ipywidgets>=7.0.0->gmaps) (0.5.1)\n",
      "Requirement already satisfied: defusedxml in c:\\users\\keetu\\anaconda3\\lib\\site-packages (from nbconvert->notebook>=4.4.1->widgetsnbextension~=3.5.0->ipywidgets>=7.0.0->gmaps) (0.6.0)\n",
      "Requirement already satisfied: async-generator in c:\\users\\keetu\\anaconda3\\lib\\site-packages (from nbclient<0.6.0,>=0.5.0->nbconvert->notebook>=4.4.1->widgetsnbextension~=3.5.0->ipywidgets>=7.0.0->gmaps) (1.10)\n",
      "Requirement already satisfied: nest-asyncio in c:\\users\\keetu\\anaconda3\\lib\\site-packages (from nbclient<0.6.0,>=0.5.0->nbconvert->notebook>=4.4.1->widgetsnbextension~=3.5.0->ipywidgets>=7.0.0->gmaps) (1.4.2)\n",
      "Requirement already satisfied: webencodings in c:\\users\\keetu\\anaconda3\\lib\\site-packages (from bleach->nbconvert->notebook>=4.4.1->widgetsnbextension~=3.5.0->ipywidgets>=7.0.0->gmaps) (0.5.1)\n",
      "Requirement already satisfied: packaging in c:\\users\\keetu\\anaconda3\\lib\\site-packages (from bleach->nbconvert->notebook>=4.4.1->widgetsnbextension~=3.5.0->ipywidgets>=7.0.0->gmaps) (20.8)\n",
      "Requirement already satisfied: pyparsing>=2.0.2 in c:\\users\\keetu\\anaconda3\\lib\\site-packages (from packaging->bleach->nbconvert->notebook>=4.4.1->widgetsnbextension~=3.5.0->ipywidgets>=7.0.0->gmaps) (2.4.7)\n"
     ]
    }
   ],
   "source": [
    "# Import the dependencies.\n",
    "!pip install gmaps\n",
    "import pandas as pd\n",
    "import gmaps\n",
    "import requests\n",
    "# Import the API key.\n",
    "from config import g_key\n"
   ]
  },
  {
   "cell_type": "code",
   "execution_count": 32,
   "metadata": {},
   "outputs": [
    {
     "output_type": "execute_result",
     "data": {
      "text/plain": [
       "   City_ID          City Country                 Date      Lat      Lng  \\\n",
       "0        0  Punta Arenas      CL  2021-02-03 23:12:51 -53.1500 -70.9167   \n",
       "1        1         Nioro      GM  2021-02-03 23:12:51  13.3500 -15.7500   \n",
       "2        2    Sao Filipe      CV  2021-02-03 23:12:51  14.8961 -24.4956   \n",
       "3        3    Skelleftea      SE  2021-02-03 23:12:52  64.7507  20.9528   \n",
       "4        4       Ushuaia      AR  2021-02-03 23:10:00 -54.8000 -68.3000   \n",
       "\n",
       "   Max Temp  Humidity  Cloudiness  Wind Speed  \n",
       "0     62.60        63           0       16.11  \n",
       "1     74.32        22         100        6.42  \n",
       "2     71.87        78          77        9.91  \n",
       "3     10.40        85          40        6.91  \n",
       "4     51.80        66          75        6.91  "
      ],
      "text/html": "<div>\n<style scoped>\n    .dataframe tbody tr th:only-of-type {\n        vertical-align: middle;\n    }\n\n    .dataframe tbody tr th {\n        vertical-align: top;\n    }\n\n    .dataframe thead th {\n        text-align: right;\n    }\n</style>\n<table border=\"1\" class=\"dataframe\">\n  <thead>\n    <tr style=\"text-align: right;\">\n      <th></th>\n      <th>City_ID</th>\n      <th>City</th>\n      <th>Country</th>\n      <th>Date</th>\n      <th>Lat</th>\n      <th>Lng</th>\n      <th>Max Temp</th>\n      <th>Humidity</th>\n      <th>Cloudiness</th>\n      <th>Wind Speed</th>\n    </tr>\n  </thead>\n  <tbody>\n    <tr>\n      <th>0</th>\n      <td>0</td>\n      <td>Punta Arenas</td>\n      <td>CL</td>\n      <td>2021-02-03 23:12:51</td>\n      <td>-53.1500</td>\n      <td>-70.9167</td>\n      <td>62.60</td>\n      <td>63</td>\n      <td>0</td>\n      <td>16.11</td>\n    </tr>\n    <tr>\n      <th>1</th>\n      <td>1</td>\n      <td>Nioro</td>\n      <td>GM</td>\n      <td>2021-02-03 23:12:51</td>\n      <td>13.3500</td>\n      <td>-15.7500</td>\n      <td>74.32</td>\n      <td>22</td>\n      <td>100</td>\n      <td>6.42</td>\n    </tr>\n    <tr>\n      <th>2</th>\n      <td>2</td>\n      <td>Sao Filipe</td>\n      <td>CV</td>\n      <td>2021-02-03 23:12:51</td>\n      <td>14.8961</td>\n      <td>-24.4956</td>\n      <td>71.87</td>\n      <td>78</td>\n      <td>77</td>\n      <td>9.91</td>\n    </tr>\n    <tr>\n      <th>3</th>\n      <td>3</td>\n      <td>Skelleftea</td>\n      <td>SE</td>\n      <td>2021-02-03 23:12:52</td>\n      <td>64.7507</td>\n      <td>20.9528</td>\n      <td>10.40</td>\n      <td>85</td>\n      <td>40</td>\n      <td>6.91</td>\n    </tr>\n    <tr>\n      <th>4</th>\n      <td>4</td>\n      <td>Ushuaia</td>\n      <td>AR</td>\n      <td>2021-02-03 23:10:00</td>\n      <td>-54.8000</td>\n      <td>-68.3000</td>\n      <td>51.80</td>\n      <td>66</td>\n      <td>75</td>\n      <td>6.91</td>\n    </tr>\n  </tbody>\n</table>\n</div>"
     },
     "metadata": {},
     "execution_count": 32
    }
   ],
   "source": [
    "# Store the CSV you saved created in part one into a DataFrame.\n",
    "city_data_df = pd.read_csv(\"weather_data/cities.csv\")\n",
    "city_data_df.head()"
   ]
  },
  {
   "cell_type": "code",
   "execution_count": 33,
   "metadata": {},
   "outputs": [],
   "source": [
    "# Configure gmaps to use your Google API key.\n",
    "gmaps.configure(api_key=g_key)"
   ]
  },
  {
   "cell_type": "code",
   "execution_count": 34,
   "metadata": {},
   "outputs": [
    {
     "output_type": "display_data",
     "data": {
      "text/plain": "Figure(layout=FigureLayout(height='420px'))",
      "application/vnd.jupyter.widget-view+json": {
       "version_major": 2,
       "version_minor": 0,
       "model_id": "347ba2ed828f41e4ae9e097d2b3792c5"
      }
     },
     "metadata": {}
    }
   ],
   "source": [
    "# Heatmap of temperature\n",
    "# Get the latitude and longitude.\n",
    "locations = city_data_df[[\"Lat\", \"Lng\"]]\n",
    "max_temp = city_data_df[\"Max Temp\"]\n",
    "# Assign the figure variable.\n",
    "fig = gmaps.figure(center=(30.0, 31.0), zoom_level=1.5)\n",
    "# Assign the heatmap variable.\n",
    "heat_layer = gmaps.heatmap_layer(locations, weights=[max(temp, 0) for temp in max_temp], dissipating=False, max_intensity=300, point_radius=4)\n",
    "# Add the heatmap layer.\n",
    "fig.add_layer(heat_layer)\n",
    "\n",
    "# Call the figure to plot the data.\n",
    "fig"
   ]
  },
  {
   "cell_type": "code",
   "execution_count": 35,
   "metadata": {},
   "outputs": [
    {
     "output_type": "display_data",
     "data": {
      "text/plain": "Figure(layout=FigureLayout(height='420px'))",
      "application/vnd.jupyter.widget-view+json": {
       "version_major": 2,
       "version_minor": 0,
       "model_id": "3c4bebb3630b4810960cdc70f53d10d5"
      }
     },
     "metadata": {}
    }
   ],
   "source": [
    "# Heatmap of percent humidity\n",
    "locations = city_data_df[[\"Lat\", \"Lng\"]]\n",
    "humidity = city_data_df[\"Humidity\"]\n",
    "fig = gmaps.figure(center=(30.0, 31.0), zoom_level=1.5)\n",
    "heat_layer = gmaps.heatmap_layer(locations, weights=humidity, dissipating=False, max_intensity=300, point_radius=4)\n",
    "\n",
    "fig.add_layer(heat_layer)\n",
    "# Call the figure to plot the data.\n",
    "fig"
   ]
  },
  {
   "cell_type": "code",
   "execution_count": 36,
   "metadata": {},
   "outputs": [
    {
     "output_type": "display_data",
     "data": {
      "text/plain": "Figure(layout=FigureLayout(height='420px'))",
      "application/vnd.jupyter.widget-view+json": {
       "version_major": 2,
       "version_minor": 0,
       "model_id": "5327f62c72f447548fa0dbe3251bb435"
      }
     },
     "metadata": {}
    }
   ],
   "source": [
    "# Heatmap of percent humidity\n",
    "locations = city_data_df[[\"Lat\", \"Lng\"]]\n",
    "clouds = city_data_df[\"Cloudiness\"]\n",
    "fig = gmaps.figure(center=(30.0, 31.0), zoom_level=1.5)\n",
    "heat_layer = gmaps.heatmap_layer(locations, weights=clouds, dissipating=False, max_intensity=300, point_radius=4)\n",
    "\n",
    "fig.add_layer(heat_layer)\n",
    "# Call the figure to plot the data.\n",
    "fig"
   ]
  },
  {
   "cell_type": "code",
   "execution_count": 37,
   "metadata": {},
   "outputs": [
    {
     "output_type": "display_data",
     "data": {
      "text/plain": "Figure(layout=FigureLayout(height='420px'))",
      "application/vnd.jupyter.widget-view+json": {
       "version_major": 2,
       "version_minor": 0,
       "model_id": "eeab6714b0ca4c6e805a9ded9448ee0d"
      }
     },
     "metadata": {}
    }
   ],
   "source": [
    "# Heatmap of percent humidity\n",
    "locations = city_data_df[[\"Lat\", \"Lng\"]]\n",
    "wind = city_data_df[\"Wind Speed\"]\n",
    "fig = gmaps.figure(center=(30.0, 31.0), zoom_level=1.5)\n",
    "heat_layer = gmaps.heatmap_layer(locations, weights=wind, dissipating=False, max_intensity=300, point_radius=4)\n",
    "\n",
    "fig.add_layer(heat_layer)\n",
    "# Call the figure to plot the data.\n",
    "fig"
   ]
  },
  {
   "cell_type": "code",
   "execution_count": 38,
   "metadata": {},
   "outputs": [],
   "source": [
    "# Ask the customer to add a minimum and maximum temperature value.\n",
    "min_temp = float(input(\"What is the minimum temperature you would like for your trip? \"))\n",
    "max_temp = float(input(\"What is the maximum temperature you would like for your trip? \"))"
   ]
  },
  {
   "cell_type": "code",
   "execution_count": 39,
   "metadata": {},
   "outputs": [
    {
     "output_type": "execute_result",
     "data": {
      "text/plain": [
       "    City_ID            City Country                 Date      Lat       Lng  \\\n",
       "5         5      Butaritari      KI  2021-02-03 23:10:04   3.0707  172.7902   \n",
       "9         9        Souillac      MU  2021-02-03 23:12:52 -20.5167   57.5167   \n",
       "11       11       Kavaratti      IN  2021-02-03 23:12:52  10.5669   72.6420   \n",
       "12       12             Ewo      CG  2021-02-03 23:11:11  -0.8725   14.8206   \n",
       "15       15      Morant Bay      JM  2021-02-03 23:07:54  17.8815  -76.4093   \n",
       "16       16       Carnarvon      AU  2021-02-03 23:12:53 -24.8667  113.6333   \n",
       "18       18         Kahului      US  2021-02-03 23:12:53  20.8947 -156.4700   \n",
       "20       20       Mahebourg      MU  2021-02-03 23:09:22 -20.4081   57.7000   \n",
       "26       26  Nuevo Progreso      MX  2021-02-03 23:12:54  23.1667  -97.9500   \n",
       "27       27          Pandan      PH  2021-02-03 23:12:54  14.0453  124.1694   \n",
       "\n",
       "    Max Temp  Humidity  Cloudiness  Wind Speed  \n",
       "5      81.61        83          71       17.31  \n",
       "9      78.80        83          75        9.22  \n",
       "11     81.14        63          80        6.06  \n",
       "12     75.00        87          30        2.33  \n",
       "15     80.60        61          20       17.27  \n",
       "16     78.80        91          90       24.16  \n",
       "18     77.00        61          90       24.16  \n",
       "20     75.20        88          75        5.75  \n",
       "26     75.00        55          23        3.00  \n",
       "27     77.32        85          90       20.27  "
      ],
      "text/html": "<div>\n<style scoped>\n    .dataframe tbody tr th:only-of-type {\n        vertical-align: middle;\n    }\n\n    .dataframe tbody tr th {\n        vertical-align: top;\n    }\n\n    .dataframe thead th {\n        text-align: right;\n    }\n</style>\n<table border=\"1\" class=\"dataframe\">\n  <thead>\n    <tr style=\"text-align: right;\">\n      <th></th>\n      <th>City_ID</th>\n      <th>City</th>\n      <th>Country</th>\n      <th>Date</th>\n      <th>Lat</th>\n      <th>Lng</th>\n      <th>Max Temp</th>\n      <th>Humidity</th>\n      <th>Cloudiness</th>\n      <th>Wind Speed</th>\n    </tr>\n  </thead>\n  <tbody>\n    <tr>\n      <th>5</th>\n      <td>5</td>\n      <td>Butaritari</td>\n      <td>KI</td>\n      <td>2021-02-03 23:10:04</td>\n      <td>3.0707</td>\n      <td>172.7902</td>\n      <td>81.61</td>\n      <td>83</td>\n      <td>71</td>\n      <td>17.31</td>\n    </tr>\n    <tr>\n      <th>9</th>\n      <td>9</td>\n      <td>Souillac</td>\n      <td>MU</td>\n      <td>2021-02-03 23:12:52</td>\n      <td>-20.5167</td>\n      <td>57.5167</td>\n      <td>78.80</td>\n      <td>83</td>\n      <td>75</td>\n      <td>9.22</td>\n    </tr>\n    <tr>\n      <th>11</th>\n      <td>11</td>\n      <td>Kavaratti</td>\n      <td>IN</td>\n      <td>2021-02-03 23:12:52</td>\n      <td>10.5669</td>\n      <td>72.6420</td>\n      <td>81.14</td>\n      <td>63</td>\n      <td>80</td>\n      <td>6.06</td>\n    </tr>\n    <tr>\n      <th>12</th>\n      <td>12</td>\n      <td>Ewo</td>\n      <td>CG</td>\n      <td>2021-02-03 23:11:11</td>\n      <td>-0.8725</td>\n      <td>14.8206</td>\n      <td>75.00</td>\n      <td>87</td>\n      <td>30</td>\n      <td>2.33</td>\n    </tr>\n    <tr>\n      <th>15</th>\n      <td>15</td>\n      <td>Morant Bay</td>\n      <td>JM</td>\n      <td>2021-02-03 23:07:54</td>\n      <td>17.8815</td>\n      <td>-76.4093</td>\n      <td>80.60</td>\n      <td>61</td>\n      <td>20</td>\n      <td>17.27</td>\n    </tr>\n    <tr>\n      <th>16</th>\n      <td>16</td>\n      <td>Carnarvon</td>\n      <td>AU</td>\n      <td>2021-02-03 23:12:53</td>\n      <td>-24.8667</td>\n      <td>113.6333</td>\n      <td>78.80</td>\n      <td>91</td>\n      <td>90</td>\n      <td>24.16</td>\n    </tr>\n    <tr>\n      <th>18</th>\n      <td>18</td>\n      <td>Kahului</td>\n      <td>US</td>\n      <td>2021-02-03 23:12:53</td>\n      <td>20.8947</td>\n      <td>-156.4700</td>\n      <td>77.00</td>\n      <td>61</td>\n      <td>90</td>\n      <td>24.16</td>\n    </tr>\n    <tr>\n      <th>20</th>\n      <td>20</td>\n      <td>Mahebourg</td>\n      <td>MU</td>\n      <td>2021-02-03 23:09:22</td>\n      <td>-20.4081</td>\n      <td>57.7000</td>\n      <td>75.20</td>\n      <td>88</td>\n      <td>75</td>\n      <td>5.75</td>\n    </tr>\n    <tr>\n      <th>26</th>\n      <td>26</td>\n      <td>Nuevo Progreso</td>\n      <td>MX</td>\n      <td>2021-02-03 23:12:54</td>\n      <td>23.1667</td>\n      <td>-97.9500</td>\n      <td>75.00</td>\n      <td>55</td>\n      <td>23</td>\n      <td>3.00</td>\n    </tr>\n    <tr>\n      <th>27</th>\n      <td>27</td>\n      <td>Pandan</td>\n      <td>PH</td>\n      <td>2021-02-03 23:12:54</td>\n      <td>14.0453</td>\n      <td>124.1694</td>\n      <td>77.32</td>\n      <td>85</td>\n      <td>90</td>\n      <td>20.27</td>\n    </tr>\n  </tbody>\n</table>\n</div>"
     },
     "metadata": {},
     "execution_count": 39
    }
   ],
   "source": [
    "# Filter the dataset to find the cities that fit the criteria.\n",
    "preferred_cities_df = city_data_df.loc[(city_data_df[\"Max Temp\"] <= max_temp) & \n",
    "                                       (city_data_df[\"Max Temp\"] >= min_temp)]\n",
    "preferred_cities_df= preferred_cities_df.dropna()\n",
    "preferred_cities_df.head(10)"
   ]
  },
  {
   "cell_type": "code",
   "execution_count": 40,
   "metadata": {},
   "outputs": [
    {
     "output_type": "execute_result",
     "data": {
      "text/plain": [
       "City_ID       180\n",
       "City          180\n",
       "Country       180\n",
       "Date          180\n",
       "Lat           180\n",
       "Lng           180\n",
       "Max Temp      180\n",
       "Humidity      180\n",
       "Cloudiness    180\n",
       "Wind Speed    180\n",
       "dtype: int64"
      ]
     },
     "metadata": {},
     "execution_count": 40
    }
   ],
   "source": [
    "preferred_cities_df.count()"
   ]
  },
  {
   "cell_type": "code",
   "execution_count": 41,
   "metadata": {},
   "outputs": [
    {
     "output_type": "execute_result",
     "data": {
      "text/plain": [
       "              City Country  Max Temp      Lat       Lng Hotel Name\n",
       "5       Butaritari      KI     81.61   3.0707  172.7902           \n",
       "9         Souillac      MU     78.80 -20.5167   57.5167           \n",
       "11       Kavaratti      IN     81.14  10.5669   72.6420           \n",
       "12             Ewo      CG     75.00  -0.8725   14.8206           \n",
       "15      Morant Bay      JM     80.60  17.8815  -76.4093           \n",
       "16       Carnarvon      AU     78.80 -24.8667  113.6333           \n",
       "18         Kahului      US     77.00  20.8947 -156.4700           \n",
       "20       Mahebourg      MU     75.20 -20.4081   57.7000           \n",
       "26  Nuevo Progreso      MX     75.00  23.1667  -97.9500           \n",
       "27          Pandan      PH     77.32  14.0453  124.1694           "
      ],
      "text/html": "<div>\n<style scoped>\n    .dataframe tbody tr th:only-of-type {\n        vertical-align: middle;\n    }\n\n    .dataframe tbody tr th {\n        vertical-align: top;\n    }\n\n    .dataframe thead th {\n        text-align: right;\n    }\n</style>\n<table border=\"1\" class=\"dataframe\">\n  <thead>\n    <tr style=\"text-align: right;\">\n      <th></th>\n      <th>City</th>\n      <th>Country</th>\n      <th>Max Temp</th>\n      <th>Lat</th>\n      <th>Lng</th>\n      <th>Hotel Name</th>\n    </tr>\n  </thead>\n  <tbody>\n    <tr>\n      <th>5</th>\n      <td>Butaritari</td>\n      <td>KI</td>\n      <td>81.61</td>\n      <td>3.0707</td>\n      <td>172.7902</td>\n      <td></td>\n    </tr>\n    <tr>\n      <th>9</th>\n      <td>Souillac</td>\n      <td>MU</td>\n      <td>78.80</td>\n      <td>-20.5167</td>\n      <td>57.5167</td>\n      <td></td>\n    </tr>\n    <tr>\n      <th>11</th>\n      <td>Kavaratti</td>\n      <td>IN</td>\n      <td>81.14</td>\n      <td>10.5669</td>\n      <td>72.6420</td>\n      <td></td>\n    </tr>\n    <tr>\n      <th>12</th>\n      <td>Ewo</td>\n      <td>CG</td>\n      <td>75.00</td>\n      <td>-0.8725</td>\n      <td>14.8206</td>\n      <td></td>\n    </tr>\n    <tr>\n      <th>15</th>\n      <td>Morant Bay</td>\n      <td>JM</td>\n      <td>80.60</td>\n      <td>17.8815</td>\n      <td>-76.4093</td>\n      <td></td>\n    </tr>\n    <tr>\n      <th>16</th>\n      <td>Carnarvon</td>\n      <td>AU</td>\n      <td>78.80</td>\n      <td>-24.8667</td>\n      <td>113.6333</td>\n      <td></td>\n    </tr>\n    <tr>\n      <th>18</th>\n      <td>Kahului</td>\n      <td>US</td>\n      <td>77.00</td>\n      <td>20.8947</td>\n      <td>-156.4700</td>\n      <td></td>\n    </tr>\n    <tr>\n      <th>20</th>\n      <td>Mahebourg</td>\n      <td>MU</td>\n      <td>75.20</td>\n      <td>-20.4081</td>\n      <td>57.7000</td>\n      <td></td>\n    </tr>\n    <tr>\n      <th>26</th>\n      <td>Nuevo Progreso</td>\n      <td>MX</td>\n      <td>75.00</td>\n      <td>23.1667</td>\n      <td>-97.9500</td>\n      <td></td>\n    </tr>\n    <tr>\n      <th>27</th>\n      <td>Pandan</td>\n      <td>PH</td>\n      <td>77.32</td>\n      <td>14.0453</td>\n      <td>124.1694</td>\n      <td></td>\n    </tr>\n  </tbody>\n</table>\n</div>"
     },
     "metadata": {},
     "execution_count": 41
    }
   ],
   "source": [
    "# Create DataFrame called hotel_df to store hotel names along with city, country, max temp, and coordinates.\n",
    "hotel_df = preferred_cities_df[[\"City\", \"Country\", \"Max Temp\", \"Lat\", \"Lng\"]].copy()\n",
    "hotel_df[\"Hotel Name\"] = \"\"\n",
    "hotel_df.head(10)"
   ]
  },
  {
   "cell_type": "code",
   "execution_count": 48,
   "metadata": {},
   "outputs": [
    {
     "output_type": "stream",
     "name": "stdout",
     "text": [
      "Hotel not found... skipping.\n",
      "Hotel not found... skipping.\n",
      "Hotel not found... skipping.\n",
      "Hotel not found... skipping.\n",
      "Hotel not found... skipping.\n",
      "Hotel not found... skipping.\n",
      "Hotel not found... skipping.\n",
      "Hotel not found... skipping.\n",
      "Hotel not found... skipping.\n",
      "Hotel not found... skipping.\n"
     ]
    }
   ],
   "source": [
    "# Set the parameters to search for a hotel in Paris.\n",
    "params = {\n",
    "    \"radius\": 5000,\n",
    "    \"types\": \"lodging\",\n",
    "    \"key\": g_key,\n",
    "     \"location\": \"48.8566, 2.3522\"}\n",
    "# Iterate through the DataFrame.\n",
    "for index, row in hotel_df.iterrows():\n",
    "    # Get the latitude and longitude.\n",
    "    lat = row[\"Lat\"]\n",
    "    lng = row[\"Lng\"]\n",
    "\n",
    "    # Add the latitude and longitude to location key for the params dictionary.\n",
    "    params[\"location\"] = f\"{lat},{lng}\"\n",
    "\n",
    "    # Use the search term: \"lodging\" and our latitude and longitude.\n",
    "    base_url = \"https://maps.googleapis.com/maps/api/place/nearbysearch/json\"\n",
    "    # Make request and get the JSON data from the search.\n",
    "    hotels = requests.get(base_url, params=params).json()\n",
    "    # Grab the first hotel from the results and store the name.\n",
    "    try:\n",
    "        hotel_df.loc[index, \"Hotel Name\"] = hotels[\"results\"][0][\"name\"]\n",
    "    except (IndexError):\n",
    "        print(\"Hotel not found... skipping.\")"
   ]
  },
  {
   "cell_type": "code",
   "execution_count": 49,
   "metadata": {},
   "outputs": [
    {
     "output_type": "execute_result",
     "data": {
      "text/plain": [
       "               City Country  Max Temp      Lat       Lng  \\\n",
       "5        Butaritari      KI     81.61   3.0707  172.7902   \n",
       "9          Souillac      MU     78.80 -20.5167   57.5167   \n",
       "11        Kavaratti      IN     81.14  10.5669   72.6420   \n",
       "12              Ewo      CG     75.00  -0.8725   14.8206   \n",
       "15       Morant Bay      JM     80.60  17.8815  -76.4093   \n",
       "..              ...     ...       ...      ...       ...   \n",
       "570            Sola      VU     81.79 -13.8833  167.5500   \n",
       "571           Natal      BR     80.60  -5.7950  -35.2094   \n",
       "573        Waingapu      ID     75.63  -9.6567  120.2641   \n",
       "574     Sainte-Rose      GP     77.00  16.3324  -61.6979   \n",
       "578  Augusto Correa      BR     78.78  -1.0217  -46.6350   \n",
       "\n",
       "                        Hotel Name  \n",
       "5               Isles Sunset Lodge  \n",
       "9      Shanti Maurice Resort & Spa  \n",
       "11   Hotels in Lakshadweep Islands  \n",
       "12            Residence Elonda Ewo  \n",
       "15   Whispering Bamboo Cove Resort  \n",
       "..                             ...  \n",
       "570             Leumerus Bungalows  \n",
       "571       Villa Park Hotel | Natal  \n",
       "573             Pondok Wisata Elim  \n",
       "574                  Villa - Duzer  \n",
       "578                 Fazenda Bacuri  \n",
       "\n",
       "[180 rows x 6 columns]"
      ],
      "text/html": "<div>\n<style scoped>\n    .dataframe tbody tr th:only-of-type {\n        vertical-align: middle;\n    }\n\n    .dataframe tbody tr th {\n        vertical-align: top;\n    }\n\n    .dataframe thead th {\n        text-align: right;\n    }\n</style>\n<table border=\"1\" class=\"dataframe\">\n  <thead>\n    <tr style=\"text-align: right;\">\n      <th></th>\n      <th>City</th>\n      <th>Country</th>\n      <th>Max Temp</th>\n      <th>Lat</th>\n      <th>Lng</th>\n      <th>Hotel Name</th>\n    </tr>\n  </thead>\n  <tbody>\n    <tr>\n      <th>5</th>\n      <td>Butaritari</td>\n      <td>KI</td>\n      <td>81.61</td>\n      <td>3.0707</td>\n      <td>172.7902</td>\n      <td>Isles Sunset Lodge</td>\n    </tr>\n    <tr>\n      <th>9</th>\n      <td>Souillac</td>\n      <td>MU</td>\n      <td>78.80</td>\n      <td>-20.5167</td>\n      <td>57.5167</td>\n      <td>Shanti Maurice Resort &amp; Spa</td>\n    </tr>\n    <tr>\n      <th>11</th>\n      <td>Kavaratti</td>\n      <td>IN</td>\n      <td>81.14</td>\n      <td>10.5669</td>\n      <td>72.6420</td>\n      <td>Hotels in Lakshadweep Islands</td>\n    </tr>\n    <tr>\n      <th>12</th>\n      <td>Ewo</td>\n      <td>CG</td>\n      <td>75.00</td>\n      <td>-0.8725</td>\n      <td>14.8206</td>\n      <td>Residence Elonda Ewo</td>\n    </tr>\n    <tr>\n      <th>15</th>\n      <td>Morant Bay</td>\n      <td>JM</td>\n      <td>80.60</td>\n      <td>17.8815</td>\n      <td>-76.4093</td>\n      <td>Whispering Bamboo Cove Resort</td>\n    </tr>\n    <tr>\n      <th>...</th>\n      <td>...</td>\n      <td>...</td>\n      <td>...</td>\n      <td>...</td>\n      <td>...</td>\n      <td>...</td>\n    </tr>\n    <tr>\n      <th>570</th>\n      <td>Sola</td>\n      <td>VU</td>\n      <td>81.79</td>\n      <td>-13.8833</td>\n      <td>167.5500</td>\n      <td>Leumerus Bungalows</td>\n    </tr>\n    <tr>\n      <th>571</th>\n      <td>Natal</td>\n      <td>BR</td>\n      <td>80.60</td>\n      <td>-5.7950</td>\n      <td>-35.2094</td>\n      <td>Villa Park Hotel | Natal</td>\n    </tr>\n    <tr>\n      <th>573</th>\n      <td>Waingapu</td>\n      <td>ID</td>\n      <td>75.63</td>\n      <td>-9.6567</td>\n      <td>120.2641</td>\n      <td>Pondok Wisata Elim</td>\n    </tr>\n    <tr>\n      <th>574</th>\n      <td>Sainte-Rose</td>\n      <td>GP</td>\n      <td>77.00</td>\n      <td>16.3324</td>\n      <td>-61.6979</td>\n      <td>Villa - Duzer</td>\n    </tr>\n    <tr>\n      <th>578</th>\n      <td>Augusto Correa</td>\n      <td>BR</td>\n      <td>78.78</td>\n      <td>-1.0217</td>\n      <td>-46.6350</td>\n      <td>Fazenda Bacuri</td>\n    </tr>\n  </tbody>\n</table>\n<p>180 rows × 6 columns</p>\n</div>"
     },
     "metadata": {},
     "execution_count": 49
    }
   ],
   "source": [
    "hotel_df"
   ]
  },
  {
   "cell_type": "code",
   "execution_count": 51,
   "metadata": {},
   "outputs": [
    {
     "output_type": "display_data",
     "data": {
      "text/plain": "Figure(layout=FigureLayout(height='420px'))",
      "application/vnd.jupyter.widget-view+json": {
       "version_major": 2,
       "version_minor": 0,
       "model_id": "92a456b614ea4b23acbfa08779787591"
      }
     },
     "metadata": {}
    }
   ],
   "source": [
    "# Add a heatmap of temperature for the vacation spots and marker for each city.\n",
    "locations = hotel_df[[\"Lat\", \"Lng\"]]\n",
    "max_temp = hotel_df[\"Max Temp\"]\n",
    "fig = gmaps.figure(center=(30.0, 31.0), zoom_level=1.5)\n",
    "heat_layer = gmaps.heatmap_layer(locations, weights=max_temp,\n",
    "             dissipating=False, max_intensity=300, point_radius=4)\n",
    "marker_layer = gmaps.marker_layer(locations)\n",
    "fig.add_layer(heat_layer)\n",
    "fig.add_layer(marker_layer)\n",
    "# Call the figure to plot the data.\n",
    "fig"
   ]
  },
  {
   "cell_type": "code",
   "execution_count": 53,
   "metadata": {},
   "outputs": [],
   "source": [
    "info_box_template = \"\"\"\n",
    "<dl>\n",
    "<dt>Hotel Name</dt><dd>{Hotel Name}</dd>\n",
    "<dt>City</dt><dd>{City}</dd>\n",
    "<dt>Country</dt><dd>{Country}</dd>\n",
    "<dt>Max Temp</dt><dd>{Max Temp} °F</dd>\n",
    "</dl>\n",
    "\"\"\"\n",
    "# Store the DataFrame Row.\n",
    "hotel_info = [info_box_template.format(**row) for index, row in hotel_df.iterrows()]"
   ]
  },
  {
   "cell_type": "code",
   "execution_count": 54,
   "metadata": {},
   "outputs": [
    {
     "output_type": "display_data",
     "data": {
      "text/plain": "Figure(layout=FigureLayout(height='420px'))",
      "application/vnd.jupyter.widget-view+json": {
       "version_major": 2,
       "version_minor": 0,
       "model_id": "ac9523192d6f4f488bd5903c2f6e1b17"
      }
     },
     "metadata": {}
    }
   ],
   "source": [
    "# Add a heatmap of temperature for the vacation spots and a pop-up marker for each city.\n",
    "locations = hotel_df[[\"Lat\", \"Lng\"]]\n",
    "max_temp = hotel_df[\"Max Temp\"]\n",
    "fig = gmaps.figure(center=(30.0, 31.0), zoom_level=1.5)\n",
    "heat_layer = gmaps.heatmap_layer(locations, weights=max_temp,dissipating=False,\n",
    "             max_intensity=300, point_radius=4)\n",
    "marker_layer = gmaps.marker_layer(locations, info_box_content=hotel_info)\n",
    "fig.add_layer(heat_layer)\n",
    "fig.add_layer(marker_layer)\n",
    "\n",
    "# Call the figure to plot the data.\n",
    "fig"
   ]
  },
  {
   "cell_type": "code",
   "execution_count": null,
   "metadata": {},
   "outputs": [],
   "source": []
  }
 ]
}